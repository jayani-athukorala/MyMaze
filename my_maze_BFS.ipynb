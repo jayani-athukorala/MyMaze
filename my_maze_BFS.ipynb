{
 "cells": [
  {
   "cell_type": "markdown",
   "id": "8cfe1575-9bb8-4750-b144-d2d74f2d85ef",
   "metadata": {},
   "source": [
    "@AUTHER Jayani Athukorala\n",
    "\n",
    "This program creates a simple maze using BFS Algorithm."
   ]
  },
  {
   "cell_type": "markdown",
   "id": "da1d4be5-cfc8-43e0-a018-76482472e6e8",
   "metadata": {},
   "source": [
    "<h2>Import Libraries</h2>"
   ]
  },
  {
   "cell_type": "code",
   "execution_count": 1,
   "id": "eb643fec-8cb4-4572-88cf-1547557819b3",
   "metadata": {},
   "outputs": [],
   "source": [
    "import tkinter as tk\n",
    "import time\n",
    "from queue import Queue"
   ]
  },
  {
   "cell_type": "markdown",
   "id": "c4c27c0a-fa9c-4573-a60e-4a55e081c3c8",
   "metadata": {},
   "source": [
    "<h2> MazeSolver Class </h2>"
   ]
  },
  {
   "cell_type": "code",
   "execution_count": 2,
   "id": "0f15d2a0-2f2c-462d-bb67-cd51388da0ca",
   "metadata": {},
   "outputs": [],
   "source": [
    "class MazeSolver:\n",
    "    def __init__(self, maze):\n",
    "        # Initialize the MazeSolver object with the given maze and its dimensions.\n",
    "        self.maze = maze\n",
    "        self.rows = len(maze)\n",
    "        self.cols = len(maze[0])\n",
    "\n",
    "        # Find the starting point (entrance) and destination in the maze.\n",
    "        self.start = self.find_start()\n",
    "        self.destination = self.find_destination()\n",
    "\n",
    "        # Initialize data structures to keep track of visited cells and their parent cells.\n",
    "        self.visited = [[False] * self.cols for _ in range(self.rows)]\n",
    "        self.parent = [[None] * self.cols for _ in range(self.rows)]\n",
    "\n",
    "    def find_start(self):\n",
    "        # Find the coordinates of the starting point (entrance) in the maze.\n",
    "        for i in range(self.rows):\n",
    "            for j in range(self.cols):\n",
    "                if self.maze[i][j] == 3:\n",
    "                    return (i, j)\n",
    "\n",
    "    def find_destination(self):\n",
    "        # Find the coordinates of the destination point in the maze.\n",
    "        for i in range(self.rows):\n",
    "            for j in range(self.cols):\n",
    "                if self.maze[i][j] == 2:\n",
    "                    return (i, j)\n",
    "\n",
    "    def is_valid_move(self, x, y):\n",
    "        # Check if the move to the given coordinates is valid (within bounds, not visited, and not a wall).\n",
    "        return 0 <= x < self.rows and 0 <= y < self.cols and not self.visited[x][y] and self.maze[x][y] != 0\n",
    "\n",
    "    def get_neighbors(self, x, y):\n",
    "        # Get valid neighboring coordinates of the current cell.\n",
    "        neighbors = []\n",
    "        directions = [(1, 0), (-1, 0), (0, 1), (0, -1)]\n",
    "        for dx, dy in directions:\n",
    "            new_x, new_y = x + dx, y + dy\n",
    "            if self.is_valid_move(new_x, new_y):\n",
    "                neighbors.append((new_x, new_y))\n",
    "        return neighbors\n",
    "\n",
    "    def bfs(self):\n",
    "        # Implement the Breadth-First Search algorithm to find the shortest path in the maze.\n",
    "        queue = Queue()\n",
    "        queue.put(self.start)\n",
    "        self.visited[self.start[0]][self.start[1]] = True\n",
    "\n",
    "        while not queue.empty():\n",
    "            current = queue.get()\n",
    "\n",
    "            if current == self.destination:\n",
    "                return True\n",
    "\n",
    "            for neighbor in self.get_neighbors(current[0], current[1]):\n",
    "                queue.put(neighbor)\n",
    "                self.visited[neighbor[0]][neighbor[1]] = True\n",
    "                self.parent[neighbor[0]][neighbor[1]] = current\n",
    "\n",
    "        return False\n",
    "\n",
    "    def get_path(self):\n",
    "        # Reconstruct the path from the destination to the entrance using the parent information.\n",
    "        path = []\n",
    "        current = self.destination\n",
    "        while current is not None:\n",
    "            path.append(current)\n",
    "            current = self.parent[current[0]][current[1]]\n",
    "        return path[::-1]\n"
   ]
  },
  {
   "cell_type": "markdown",
   "id": "9858757d-3851-47f6-8b9e-433186bb344f",
   "metadata": {},
   "source": [
    "<h2> MazeUI Class </h2>"
   ]
  },
  {
   "cell_type": "code",
   "execution_count": 3,
   "id": "58d8e293-f26c-490b-bee3-4042be8f6450",
   "metadata": {
    "tags": []
   },
   "outputs": [],
   "source": [
    "class MazeGUI:\n",
    "    def __init__(self, maze_solver):\n",
    "        # Initialize the MazeGUI object with a maze_solver instance and create the Tkinter root window.\n",
    "        self.maze_solver = maze_solver\n",
    "        self.root = tk.Tk()\n",
    "        self.root.title(\"MyMaze:BFS\")\n",
    "        \n",
    "        # Create a Canvas widget within the root window to display the maze and paths.\n",
    "        self.canvas = tk.Canvas(self.root, width=len(maze[0]) * 40, height=len(maze) * 40)\n",
    "        self.canvas.pack()\n",
    "\n",
    "        # Draw the maze on the canvas.\n",
    "        self.draw_maze()\n",
    "\n",
    "        # Draw the solution path on the canvas.\n",
    "        self.draw_path()\n",
    "\n",
    "    def draw_maze(self):\n",
    "        # Iterate through each cell in the maze and draw rectangles on the canvas based on the cell values.\n",
    "        for i in range(len(maze)):\n",
    "            for j in range(len(maze[0])):\n",
    "                x1, y1 = j * 40, i * 40  # Calculate the coordinates of the top-left corner of the rectangle.\n",
    "                x2, y2 = x1 + 40, y1 + 40  # Calculate the coordinates of the bottom-right corner of the rectangle.\n",
    "\n",
    "                # Set the fill color of the rectangle based on the cell value in the maze.\n",
    "                if maze[i][j] == 0:\n",
    "                    self.canvas.create_rectangle(x1, y1, x2, y2, fill=\"black\")\n",
    "                elif maze[i][j] == 1:\n",
    "                    self.canvas.create_rectangle(x1, y1, x2, y2, fill=\"white\")\n",
    "                elif maze[i][j] == 2:\n",
    "                    self.canvas.create_rectangle(x1, y1, x2, y2, fill=\"green\")\n",
    "                elif maze[i][j] == 3:\n",
    "                    self.canvas.create_rectangle(x1, y1, x2, y2, fill=\"red\")\n",
    "\n",
    "    def draw_path(self):\n",
    "        # Retrieve the solution path from the maze_solver.\n",
    "        path = self.maze_solver.get_path()\n",
    "\n",
    "        # Iterate through the path (excluding the entrance and exit) and draw rectangles on the canvas.\n",
    "        for x, y in path[1:-1]:\n",
    "            x1, y1 = y * 40, x * 40  # Calculate the coordinates of the top-left corner of the rectangle.\n",
    "            x2, y2 = x1 + 40, y1 + 40  # Calculate the coordinates of the bottom-right corner of the rectangle.\n",
    "\n",
    "            # Draw the rectangle representing the path and update the Tkinter window.\n",
    "            self.canvas.create_rectangle(x1, y1, x2, y2, fill=\"blue\")\n",
    "            self.root.update()\n",
    "            \n",
    "            # Introduce a delay to create an animation effect.\n",
    "            time.sleep(0.3)\n",
    "\n",
    "    def run(self):\n",
    "        # Start the Tkinter main event loop to display the GUI.\n",
    "        self.root.mainloop()\n"
   ]
  },
  {
   "cell_type": "markdown",
   "id": "10f1ca03-06aa-4dad-9d0e-263f870a8692",
   "metadata": {},
   "source": [
    "<h2> Data definitions and run </h2>"
   ]
  },
  {
   "cell_type": "code",
   "execution_count": null,
   "id": "883d327c-f252-4ed8-a23d-889ac4b19bf5",
   "metadata": {},
   "outputs": [],
   "source": [
    "# Define the maze structure with 1s representing open paths, 0s representing walls,\n",
    "# 2 as the destination, and 3 as the entrance.\n",
    "maze = [\n",
    "    [1, 1, 0, 0, 1, 2, 0],\n",
    "    [1, 1, 1, 1, 1, 0, 1],\n",
    "    [1, 0, 0, 0, 0, 0, 1],\n",
    "    [1, 1, 1, 1, 1, 1, 0],\n",
    "    [1, 1, 0, 0, 1, 0, 0],\n",
    "    [0, 1, 1, 0, 0, 0, 3],\n",
    "    [0, 0, 1, 1, 1, 1, 1],\n",
    "]\n",
    "\n",
    "# Create an instance of the MazeSolver class with the provided maze.\n",
    "maze_solver = MazeSolver(maze)\n",
    "\n",
    "# Check if there is a path from the entrance to the destination using the BFS algorithm.\n",
    "if maze_solver.bfs():\n",
    "    # If a path is found, create an instance of the MazeGUI class with the maze_solver.\n",
    "    gui = MazeGUI(maze_solver)\n",
    "    # Run the GUI to display the maze and the solution path.\n",
    "    gui.run()\n",
    "else:\n",
    "    # If no path is found, print a message indicating that no path exists.\n",
    "    print(\"No path found.\")"
   ]
  }
 ],
 "metadata": {
  "kernelspec": {
   "display_name": "Python 3 (ipykernel)",
   "language": "python",
   "name": "python3"
  },
  "language_info": {
   "codemirror_mode": {
    "name": "ipython",
    "version": 3
   },
   "file_extension": ".py",
   "mimetype": "text/x-python",
   "name": "python",
   "nbconvert_exporter": "python",
   "pygments_lexer": "ipython3",
   "version": "3.9.13"
  }
 },
 "nbformat": 4,
 "nbformat_minor": 5
}
