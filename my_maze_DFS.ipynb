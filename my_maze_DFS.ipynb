{
 "cells": [
  {
   "cell_type": "markdown",
   "id": "a25232fc-5489-4e94-b899-9294c4123e4a",
   "metadata": {},
   "source": [
    "@AUTHER Jayani Athukorala\n",
    "\n",
    "This program creates a simple maze using DFS Algorithm."
   ]
  },
  {
   "cell_type": "markdown",
   "id": "58213245-0a0c-44b9-97c9-c2bd90a18d85",
   "metadata": {},
   "source": [
    "<h2> Import Libraries </h2>"
   ]
  },
  {
   "cell_type": "code",
   "execution_count": 1,
   "id": "d39c65cf-a3c0-45d2-8eef-1cd5ad7ec7d7",
   "metadata": {
    "tags": []
   },
   "outputs": [],
   "source": [
    "# Import required libraries\n",
    "import tkinter as tk\n",
    "import time"
   ]
  },
  {
   "cell_type": "markdown",
   "id": "fffd6ae8-da30-45b8-a271-cb0b83f702a0",
   "metadata": {},
   "source": [
    "<h2> MazeSolver Class</h2>"
   ]
  },
  {
   "cell_type": "code",
   "execution_count": 2,
   "id": "a6b70181-f0f6-4ceb-8e74-cd3d18523469",
   "metadata": {},
   "outputs": [],
   "source": [
    "class MazeSolver:\n",
    "    def __init__(self, maze):\n",
    "        # Initialize the MazeSolver object with the given maze and its dimensions.\n",
    "        self.maze = maze\n",
    "        self.rows = len(maze)\n",
    "        self.cols = len(maze[0])\n",
    "\n",
    "        # Find the starting point (entrance) and destination in the maze.\n",
    "        self.start = self.find_start()\n",
    "        self.destination = self.find_destination()\n",
    "\n",
    "        # Initialize data structures to keep track of visited cells and their parent cells.\n",
    "        self.visited = [[False] * self.cols for _ in range(self.rows)]\n",
    "        self.parent = [[None] * self.cols for _ in range(self.rows)]\n",
    "\n",
    "    def find_start(self):\n",
    "        # Find the coordinates of the starting point (entrance) in the maze.\n",
    "        for i in range(self.rows):\n",
    "            for j in range(self.cols):\n",
    "                if self.maze[i][j] == 3:\n",
    "                    return (i, j)\n",
    "\n",
    "    def find_destination(self):\n",
    "        # Find the coordinates of the destination point in the maze.\n",
    "        for i in range(self.rows):\n",
    "            for j in range(self.cols):\n",
    "                if self.maze[i][j] == 2:\n",
    "                    return (i, j)\n",
    "\n",
    "    def is_valid_move(self, x, y):\n",
    "        # Check if the move to the given coordinates is valid (within bounds, not visited, and not a wall).\n",
    "        return 0 <= x < self.rows and 0 <= y < self.cols and not self.visited[x][y] and self.maze[x][y] != 0\n",
    "\n",
    "    def get_neighbors(self, x, y):\n",
    "        # Get valid neighboring coordinates of the current cell.\n",
    "        neighbors = []\n",
    "        directions = [(1, 0), (-1, 0), (0, 1), (0, -1)]\n",
    "        for dx, dy in directions:\n",
    "            new_x, new_y = x + dx, y + dy\n",
    "            if self.is_valid_move(new_x, new_y):\n",
    "                neighbors.append((new_x, new_y))\n",
    "        return neighbors\n",
    "\n",
    "    def dfs(self, current):\n",
    "        # Implement the Depth-First Search algorithm to find a path in the maze.\n",
    "        if current == self.destination:\n",
    "            return True\n",
    "\n",
    "        self.visited[current[0]][current[1]] = True\n",
    "\n",
    "        for neighbor in self.get_neighbors(current[0], current[1]):\n",
    "            self.parent[neighbor[0]][neighbor[1]] = current\n",
    "            if self.dfs(neighbor):\n",
    "                return True\n",
    "\n",
    "        return False\n",
    "\n",
    "    def solve(self):\n",
    "        # Start the DFS algorithm from the entrance to find a path to the destination.\n",
    "        return self.dfs(self.start)\n",
    "\n",
    "    def get_path(self):\n",
    "        # Reconstruct the path from the destination to the entrance using the parent information.\n",
    "        path = []\n",
    "        current = self.destination\n",
    "        while current is not None:\n",
    "            path.append(current)\n",
    "            current = self.parent[current[0]][current[1]]\n",
    "        return path[::-1]\n"
   ]
  },
  {
   "cell_type": "markdown",
   "id": "eed428cb-dba0-48eb-bc84-d9e5bd5821c3",
   "metadata": {},
   "source": [
    "<h2> MazeUI Class </h2>"
   ]
  },
  {
   "cell_type": "code",
   "execution_count": 3,
   "id": "ab608cff-6403-4aa3-b1ff-d7b98288d79c",
   "metadata": {},
   "outputs": [],
   "source": [
    "class MazeGUI:\n",
    "    def __init__(self, maze_solver):\n",
    "        # Initialize the MazeGUI object with a maze_solver instance and create the Tkinter root window.\n",
    "        self.maze_solver = maze_solver\n",
    "        self.root = tk.Tk()\n",
    "        self.root.title(\"MyMaze:DFS\")\n",
    "        \n",
    "        # Create a Canvas widget within the root window to display the maze and paths.\n",
    "        self.canvas = tk.Canvas(self.root, width=len(maze[0]) * 40, height=len(maze) * 40)\n",
    "        self.canvas.pack()\n",
    "\n",
    "        # Draw the maze on the canvas.\n",
    "        self.draw_maze()\n",
    "\n",
    "        # Draw the solution path on the canvas.\n",
    "        self.draw_path()\n",
    "\n",
    "    def draw_maze(self):\n",
    "        # Iterate through each cell in the maze and draw rectangles on the canvas based on the cell values.\n",
    "        for i in range(len(maze)):\n",
    "            for j in range(len(maze[0])):\n",
    "                x1, y1 = j * 40, i * 40  # Calculate the coordinates of the top-left corner of the rectangle.\n",
    "                x2, y2 = x1 + 40, y1 + 40  # Calculate the coordinates of the bottom-right corner of the rectangle.\n",
    "\n",
    "                # Set the fill color of the rectangle based on the cell value in the maze.\n",
    "                if maze[i][j] == 0:\n",
    "                    self.canvas.create_rectangle(x1, y1, x2, y2, fill=\"black\")\n",
    "                elif maze[i][j] == 1:\n",
    "                    self.canvas.create_rectangle(x1, y1, x2, y2, fill=\"white\")\n",
    "                elif maze[i][j] == 2:\n",
    "                    self.canvas.create_rectangle(x1, y1, x2, y2, fill=\"green\")\n",
    "                elif maze[i][j] == 3:\n",
    "                    self.canvas.create_rectangle(x1, y1, x2, y2, fill=\"red\")\n",
    "\n",
    "    def draw_path(self):\n",
    "        # Retrieve the solution path from the maze_solver.\n",
    "        path = self.maze_solver.get_path()\n",
    "\n",
    "        # Iterate through the path (excluding the entrance and exit) and draw rectangles on the canvas.\n",
    "        for x, y in path[1:-1]:\n",
    "            x1, y1 = y * 40, x * 40  # Calculate the coordinates of the top-left corner of the rectangle.\n",
    "            x2, y2 = x1 + 40, y1 + 40  # Calculate the coordinates of the bottom-right corner of the rectangle.\n",
    "\n",
    "            # Draw the rectangle representing the path and update the Tkinter window.\n",
    "            self.canvas.create_rectangle(x1, y1, x2, y2, fill=\"blue\")\n",
    "            self.root.update()\n",
    "\n",
    "            # Introduce a delay to create an animation effect.\n",
    "            time.sleep(0.3)\n",
    "\n",
    "    def run(self):\n",
    "        # Start the Tkinter main event loop to display the GUI.\n",
    "        self.root.mainloop()\n"
   ]
  },
  {
   "cell_type": "markdown",
   "id": "e9c06604-3b7b-402f-8fa0-a99055951d16",
   "metadata": {},
   "source": [
    "<h2> Data definitions and run </h2>"
   ]
  },
  {
   "cell_type": "code",
   "execution_count": 4,
   "id": "9382f4a8-1163-4136-800c-afe26eea0492",
   "metadata": {},
   "outputs": [],
   "source": [
    "maze = [\n",
    "    [1, 1, 0, 0, 1, 2, 0],\n",
    "    [1, 1, 1, 1, 1, 0, 1],\n",
    "    [1, 0, 0, 0, 0, 0, 1],\n",
    "    [1, 1, 1, 1, 1, 1, 0],\n",
    "    [1, 1, 0, 0, 1, 0, 0],\n",
    "    [0, 1, 1, 0, 0, 0, 3],\n",
    "    [0, 0, 1, 1, 1, 1, 1],\n",
    "]\n",
    "\n",
    "maze_solver = MazeSolver(maze)\n",
    "if maze_solver.solve():\n",
    "    gui = MazeGUI(maze_solver)\n",
    "    gui.run()\n",
    "else:\n",
    "    print(\"No path found.\")"
   ]
  }
 ],
 "metadata": {
  "kernelspec": {
   "display_name": "Python 3 (ipykernel)",
   "language": "python",
   "name": "python3"
  },
  "language_info": {
   "codemirror_mode": {
    "name": "ipython",
    "version": 3
   },
   "file_extension": ".py",
   "mimetype": "text/x-python",
   "name": "python",
   "nbconvert_exporter": "python",
   "pygments_lexer": "ipython3",
   "version": "3.9.13"
  }
 },
 "nbformat": 4,
 "nbformat_minor": 5
}
