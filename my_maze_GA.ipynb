{
 "cells": [
  {
   "cell_type": "markdown",
   "id": "cf286ebd-8874-45c1-b0e3-cf002c015593",
   "metadata": {
    "tags": []
   },
   "source": [
    "@AUTHER Jayani Athukorala\n",
    "\n",
    "This program creates a simple maze using genetic algorithms (GA)."
   ]
  },
  {
   "cell_type": "markdown",
   "id": "b6440e3b-3d2f-42a7-b9cc-c5efc1a50078",
   "metadata": {},
   "source": [
    "<h2>Imports </h2>"
   ]
  },
  {
   "cell_type": "code",
   "execution_count": 1,
   "id": "c9ae6615-06cf-4e9b-bdac-ecccc6d2a79c",
   "metadata": {},
   "outputs": [],
   "source": [
    "# Import necessary libraries\n",
    "import random\n",
    "import tkinter as tk\n",
    "import time"
   ]
  },
  {
   "cell_type": "markdown",
   "id": "f596b25e-e782-490b-8a8a-fd61a6fbb75f",
   "metadata": {},
   "source": [
    "<h2> Data Definitions </h2>"
   ]
  },
  {
   "cell_type": "code",
   "execution_count": 2,
   "id": "dd60e58f-6212-4309-a87c-744c2da77958",
   "metadata": {
    "tags": []
   },
   "outputs": [],
   "source": [
    "# Define maze\n",
    "maze = [\n",
    "    [1, 1, 0, 0, 1, 2, 0],\n",
    "    [1, 1, 1, 1, 1, 0, 1],\n",
    "    [1, 0, 0, 0, 0, 0, 1],\n",
    "    [1, 1, 1, 1, 1, 1, 0],\n",
    "    [1, 1, 0, 0, 1, 0, 0],\n",
    "    [0, 1, 1, 0, 0, 0, 3],\n",
    "    [0, 0, 1, 1, 1, 1, 1],\n",
    "]\n",
    "\n",
    "# Define possible moves\n",
    "moves = [\"up\", \"down\", \"left\", \"right\"]\n",
    "\n",
    "# Genetic algorithm parameters\n",
    "population_size = 100\n",
    "generations = 100\n",
    "mutation_rate = 0.1\n",
    "\n",
    "# GUI parameters\n",
    "cell_size = 40"
   ]
  },
  {
   "cell_type": "markdown",
   "id": "916126e2-722e-4dc6-8559-cf3d3f523656",
   "metadata": {},
   "source": [
    "<h2> Algorithm Functions </h2>"
   ]
  },
  {
   "cell_type": "code",
   "execution_count": 3,
   "id": "0e350880-82db-48fe-80a1-0eb5ccbbc546",
   "metadata": {},
   "outputs": [],
   "source": [
    "# Function to create an individual (a sequence of moves)\n",
    "def create_individual():\n",
    "    return [random.choice(moves) for _ in range(50)]"
   ]
  },
  {
   "cell_type": "code",
   "execution_count": 4,
   "id": "aeec7edd-9fe8-4a88-be97-b30558f86722",
   "metadata": {},
   "outputs": [],
   "source": [
    "# Function to evaluate the fitness of an individual\n",
    "def fitness(individual):\n",
    "    x, y = find_starting_position()\n",
    "    for move in individual:\n",
    "        if move == \"up\" and x > 0 and maze[x - 1][y] != 0:\n",
    "            x -= 1\n",
    "        elif move == \"down\" and x < len(maze) - 1 and maze[x + 1][y] != 0:\n",
    "            x += 1\n",
    "        elif move == \"left\" and y > 0 and maze[x][y - 1] != 0:\n",
    "            y -= 1\n",
    "        elif move == \"right\" and y < len(maze[0]) - 1 and maze[x][y + 1] != 0:\n",
    "            y += 1\n",
    "\n",
    "        if maze[x][y] == 2:\n",
    "            return 1  # Reached the destination\n",
    "\n",
    "    return 1 / (abs(x - find_destination_position()[0]) + abs(y - find_destination_position()[1]) + 1)"
   ]
  },
  {
   "cell_type": "code",
   "execution_count": 5,
   "id": "ec337696-25f3-4447-a164-a381c81d02b4",
   "metadata": {},
   "outputs": [],
   "source": [
    "# Function to perform crossover between two parents\n",
    "def crossover(parent1, parent2):\n",
    "    crossover_point = random.randint(1, len(parent1) - 1)\n",
    "    child1 = parent1[:crossover_point] + parent2[crossover_point:]\n",
    "    child2 = parent2[:crossover_point] + parent1[crossover_point:]\n",
    "    return child1, child2"
   ]
  },
  {
   "cell_type": "code",
   "execution_count": 6,
   "id": "bc3089e4-845b-4aa6-9f7d-bfe01ad46d0b",
   "metadata": {},
   "outputs": [],
   "source": [
    "# Function to mutate an individual\n",
    "def mutate(individual):\n",
    "    for i in range(len(individual)):\n",
    "        if random.random() < mutation_rate:\n",
    "            individual[i] = random.choice(moves)\n",
    "    return individual"
   ]
  },
  {
   "cell_type": "markdown",
   "id": "a501542d-2ed6-41e8-84de-85180cd985d8",
   "metadata": {},
   "source": [
    "<h2> Source and Destination </h2>"
   ]
  },
  {
   "cell_type": "code",
   "execution_count": 7,
   "id": "335b9487-6f7c-4ecd-83ca-4e9937b72c5f",
   "metadata": {},
   "outputs": [],
   "source": [
    "# Function to find the starting position in the maze\n",
    "def find_starting_position():\n",
    "    for i in range(len(maze)):\n",
    "        for j in range(len(maze[0])):\n",
    "            if maze[i][j] == 3:\n",
    "                return i, j"
   ]
  },
  {
   "cell_type": "code",
   "execution_count": 8,
   "id": "68d3db22-509e-4c01-9d6a-657e8c82a027",
   "metadata": {},
   "outputs": [],
   "source": [
    "# Function to find the destination position in the maze\n",
    "def find_destination_position():\n",
    "    for i in range(len(maze)):\n",
    "        for j in range(len(maze[0])):\n",
    "            if maze[i][j] == 2:\n",
    "                return i, j"
   ]
  },
  {
   "cell_type": "markdown",
   "id": "0e54d4e8-0616-4629-8b9d-1c43bebe4f4c",
   "metadata": {},
   "source": [
    "<h2>GUI Functions</h2>"
   ]
  },
  {
   "cell_type": "code",
   "execution_count": 9,
   "id": "6d920f46-9a99-4c33-91f4-d55cfade2cd0",
   "metadata": {},
   "outputs": [],
   "source": [
    "# Function to draw the maze on the GUI canvas\n",
    "def draw_maze():\n",
    "    for i in range(len(maze)):\n",
    "        for j in range(len(maze[0])):\n",
    "            if maze[i][j] == 0:\n",
    "                canvas.create_rectangle(j * cell_size, i * cell_size, (j + 1) * cell_size, (i + 1) * cell_size,\n",
    "                                        fill=\"black\")\n",
    "            elif maze[i][j] == 1:\n",
    "                canvas.create_rectangle(j * cell_size, i * cell_size, (j + 1) * cell_size, (i + 1) * cell_size,\n",
    "                                        fill=\"white\")\n",
    "            elif maze[i][j] == 2:\n",
    "                canvas.create_rectangle(j * cell_size, i * cell_size, (j + 1) * cell_size, (i + 1) * cell_size,\n",
    "                                        fill=\"green\")\n",
    "            elif maze[i][j] == 3:\n",
    "                canvas.create_rectangle(j * cell_size, i * cell_size, (j + 1) * cell_size, (i + 1) * cell_size,\n",
    "                                        fill=\"orange\")"
   ]
  },
  {
   "cell_type": "code",
   "execution_count": 10,
   "id": "80890853-cf31-4311-a34e-9b59170885df",
   "metadata": {},
   "outputs": [],
   "source": [
    "# Function to draw an individual's path on the GUI canvas\n",
    "def draw_individual(individual, color):\n",
    "    x, y = find_starting_position()\n",
    "    for move in individual:\n",
    "        if move == \"up\" and x > 0 and maze[x - 1][y] != 0:\n",
    "            x -= 1\n",
    "        elif move == \"down\" and x < len(maze) - 1 and maze[x + 1][y] != 0:\n",
    "            x += 1\n",
    "        elif move == \"left\" and y > 0 and maze[x][y - 1] != 0:\n",
    "            y -= 1\n",
    "        elif move == \"right\" and y < len(maze[0]) - 1 and maze[x][y + 1] != 0:\n",
    "            y += 1\n",
    "\n",
    "        canvas.create_rectangle(y * cell_size, x * cell_size, (y + 1) * cell_size, (x + 1) * cell_size, fill=color)\n",
    "        canvas.update()\n",
    "        time.sleep(0.1)"
   ]
  },
  {
   "cell_type": "markdown",
   "id": "98d28bd7-274f-4aa3-b5af-d70deb43b29f",
   "metadata": {},
   "source": [
    "<h2> Genetic Algorithm </h2>"
   ]
  },
  {
   "cell_type": "code",
   "execution_count": 11,
   "id": "c2c5fe4d-5160-45cc-9abf-9df712bc83eb",
   "metadata": {},
   "outputs": [],
   "source": [
    "# Function to implement the genetic algorithm\n",
    "def genetic_algorithm():\n",
    "    population = [create_individual() for _ in range(population_size)]\n",
    "\n",
    "    for generation in range(generations):\n",
    "        scores = [fitness(individual) for individual in population]\n",
    "\n",
    "        # Check for solution\n",
    "        if max(scores) == 1:\n",
    "            print(\"Solution found in generation\", generation)\n",
    "            index = scores.index(1)\n",
    "            draw_individual(population[index], \"blue\")\n",
    "            break\n",
    "\n",
    "        # Select parents\n",
    "        parents = [population[i] for i in range(population_size) if random.random() < scores[i]]\n",
    "\n",
    "        # Crossover and mutate\n",
    "        new_generation = []\n",
    "        while len(new_generation) < population_size:\n",
    "            parent1 = random.choice(parents)\n",
    "            parent2 = random.choice(parents)\n",
    "            child1, child2 = crossover(parent1, parent2)\n",
    "            child1 = mutate(child1)\n",
    "            child2 = mutate(child2)\n",
    "            new_generation.append(child1)\n",
    "            new_generation.append(child2)\n",
    "\n",
    "        population = new_generation"
   ]
  },
  {
   "cell_type": "code",
   "execution_count": 12,
   "id": "a3f2dc9e-6bb0-41d7-b792-905b95298be9",
   "metadata": {},
   "outputs": [],
   "source": [
    "# GUI setup\n",
    "root = tk.Tk()\n",
    "root.title(\"MyMaze:GA\")\n",
    "\n",
    "canvas = tk.Canvas(root, width=len(maze[0]) * cell_size, height=len(maze) * cell_size)\n",
    "canvas.pack()\n",
    "\n",
    "draw_maze()\n",
    "canvas.update()"
   ]
  },
  {
   "cell_type": "markdown",
   "id": "64099271-8652-43b7-bce9-8fbb92cd868f",
   "metadata": {},
   "source": [
    "<h2>Run Application</h2>"
   ]
  },
  {
   "cell_type": "code",
   "execution_count": 13,
   "id": "559eec62-093e-4446-a37e-bd4ba358f48e",
   "metadata": {},
   "outputs": [
    {
     "name": "stdout",
     "output_type": "stream",
     "text": [
      "Solution found in generation 23\n"
     ]
    }
   ],
   "source": [
    "# Run the genetic algorithm and display the result on the GUI canvas\n",
    "genetic_algorithm()\n",
    "\n",
    "root.mainloop()"
   ]
  }
 ],
 "metadata": {
  "kernelspec": {
   "display_name": "Python 3 (ipykernel)",
   "language": "python",
   "name": "python3"
  },
  "language_info": {
   "codemirror_mode": {
    "name": "ipython",
    "version": 3
   },
   "file_extension": ".py",
   "mimetype": "text/x-python",
   "name": "python",
   "nbconvert_exporter": "python",
   "pygments_lexer": "ipython3",
   "version": "3.9.13"
  }
 },
 "nbformat": 4,
 "nbformat_minor": 5
}
